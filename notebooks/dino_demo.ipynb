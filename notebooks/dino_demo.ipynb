{
 "cells": [
  {
   "cell_type": "markdown",
   "metadata": {},
   "source": [
    "# DINOV2 similarity metric demo"
   ]
  },
  {
   "cell_type": "markdown",
   "metadata": {},
   "source": [
    "**There are some neccessary setup steps to run this notebook.**\n",
    "1. If you're using VS Code, change **Jupyter: Notebook File Root** to **${workspaceFolder}**.\n",
    "2. Download a pretrained backbone from official DINOV2 repo: https://github.com/facebookresearch/dinov2. You're looking for \"dinov2_vitb14_reg4_pretrain.pth\".\n",
    "3. Put the neccessary data inside the **data** folder."
   ]
  },
  {
   "cell_type": "code",
   "execution_count": 2,
   "metadata": {},
   "outputs": [],
   "source": [
    "import warnings\n",
    "warnings.filterwarnings(\"ignore\")\n",
    "\n",
    "import torch\n",
    "import cv2\n",
    "import pandas as pd\n",
    "import matplotlib.pyplot as plt\n",
    "\n",
    "from utilities import *\n",
    "from modules import DinoV2"
   ]
  },
  {
   "cell_type": "markdown",
   "metadata": {},
   "source": [
    "## Data"
   ]
  },
  {
   "cell_type": "markdown",
   "metadata": {},
   "source": [
    "**Quick overview**:\n",
    " - MISSING 6A in WEB and AI\n",
    " - MISSING 12B in AI\n",
    " - MISSING 22B in WEB and AI\n",
    " - MISSING 23B in AI\n",
    " - MISSING 26 IN WEB and AI (!) - because of this we need to skip group 26 for now"
   ]
  },
  {
   "cell_type": "code",
   "execution_count": null,
   "metadata": {},
   "outputs": [],
   "source": [
    "groups = get_groups()\n",
    "final_data = pd.concat([groups.iloc[:25], groups[26:]], axis=0)\n",
    "final_data"
   ]
  },
  {
   "cell_type": "markdown",
   "metadata": {},
   "source": [
    "Let's check if everything loaded properly."
   ]
  },
  {
   "cell_type": "code",
   "execution_count": null,
   "metadata": {},
   "outputs": [],
   "source": [
    "for i in range(len(final_data)):\n",
    "    print(f'Sample photos from group {final_data.iloc[i].group_code}')\n",
    "    ai = cv2.imread(final_data.iloc[i].ai_images[1])\n",
    "    web = cv2.imread(final_data.iloc[i].web_images[1])\n",
    "    final = cv2.imread(final_data.iloc[i].final_submissions[1])\n",
    "    ai_aggregated_similarity, web_aggregated_similarity = 0, 0\n",
    "    max_similarity, picture1, picture2 = 0, \"\", \"\"\n",
    "\n",
    "    fig = plt.figure(figsize=(20, 10))\n",
    "    plt.subplot(1, 3, 1)\n",
    "    plt.imshow(ai)\n",
    "    plt.title(\"AI\")\n",
    "    plt.subplot(1, 3, 2)\n",
    "    plt.imshow(web)\n",
    "    plt.title(\"WEB\")\n",
    "    plt.subplot(1, 3, 3)\n",
    "    plt.imshow(final)\n",
    "    plt.title(\"Submission\")\n",
    "    plt.show()"
   ]
  },
  {
   "cell_type": "markdown",
   "metadata": {},
   "source": [
    "## DINOV2"
   ]
  },
  {
   "cell_type": "code",
   "execution_count": null,
   "metadata": {},
   "outputs": [],
   "source": [
    "DEVICE = 'cuda' if torch.cuda.is_available() else 'cpu'\n",
    "dino = DinoV2(device=DEVICE)\n",
    "torch.cuda.empty_cache()"
   ]
  },
  {
   "cell_type": "markdown",
   "metadata": {},
   "source": [
    "### Small demo of the attention maps"
   ]
  },
  {
   "cell_type": "code",
   "execution_count": null,
   "metadata": {},
   "outputs": [],
   "source": [
    "file = 'data/ai/1B_15_4.png'\n",
    "with torch.no_grad():\n",
    "    attention_mask, attention_map = dino.return_attention_map(file)\n",
    "    display(attention_map)"
   ]
  },
  {
   "cell_type": "markdown",
   "metadata": {},
   "source": [
    "## Let's see if the similarity scores make any sense."
   ]
  },
  {
   "cell_type": "code",
   "execution_count": null,
   "metadata": {},
   "outputs": [],
   "source": [
    "group = 19\n",
    "\n",
    "with torch.inference_mode():\n",
    "    torch.cuda.empty_cache()\n",
    "\n",
    "    ai = final_data.iloc[group].ai_images\n",
    "    web = final_data.iloc[group].web_images\n",
    "    final = final_data.iloc[group].final_submissions\n",
    "    max_ai, min_ai, max_web, min_web = -1, float('inf'), -1, float('inf')\n",
    "    ai_total, web_total = 0, 0\n",
    "    max_similarity, pic1, pic2 = -1, \"\", \"\"\n",
    "    inspiration = \"INCONCLUSIVE\"\n",
    "\n",
    "    print(f'Calculating similarity for group {final_data.iloc[group].group_code}')\n",
    "\n",
    "    for final_photo in final:\n",
    "        torch.cuda.empty_cache()\n",
    "        \n",
    "        print(\"AI PHOTOS\")\n",
    "        for ai_photo in ai:\n",
    "            similarity = dino.calculate_similarity(final_photo, ai_photo)\n",
    "            print(f\"Similarity: {similarity}\")\n",
    "\n",
    "            min_ai = min(min_ai, similarity)\n",
    "            max_ai = max(max_ai, similarity)\n",
    "\n",
    "            dino.draw_attention(final_photo, ai_photo)\n",
    "            dino.draw_lines(final_photo, ai_photo, \"AI\")\n",
    "\n",
    "            ai_total += similarity\n",
    "            if similarity > max_similarity:\n",
    "                max_similarity = similarity\n",
    "                pic1, pic2 = final_photo, ai_photo\n",
    "                if similarity > 0.5: inspiration = \"AI\"\n",
    "        del ai_photo\n",
    "        torch.cuda.empty_cache()\n",
    "\n",
    "        print(\"WEB PHOTOS\")\n",
    "        for web_photo in web:\n",
    "            similarity = dino.calculate_similarity(final_photo, web_photo)\n",
    "            print(f\"Similarity: {similarity}\")\n",
    "            \n",
    "            min_web = min(min_web, similarity)\n",
    "            max_web = max(max_web, similarity)\n",
    "\n",
    "            dino.draw_attention(final_photo, web_photo)\n",
    "            dino.draw_lines(final_photo, web_photo, \"WEB\")\n",
    "\n",
    "            web_total += similarity\n",
    "            if similarity > max_similarity:\n",
    "                max_similarity = similarity\n",
    "                pic1, pic2 = final_photo, web_photo\n",
    "                if similarity > 0.5: inspiration = \"WEB\"\n",
    "        del web_photo\n",
    "        torch.cuda.empty_cache()\n",
    "        break\n",
    "\n",
    "    ai_total = ai_total / (len(final) * len(ai))\n",
    "    web_total = web_total / (len(final) * len(web))\n",
    "\n",
    "    del final_photo, final, ai, web\n",
    "    torch.cuda.empty_cache()\n",
    "\n",
    "    print(f'\\tSimilarity scores - AI: {ai_total:.3f}\\tWEB: {web_total:.3f}')\n",
    "    print(f'\\tAI similarity - MAX: {max_ai} | MIN: {min_ai}')\n",
    "    print(f'\\tWEB similarity - MAX: {max_web} | MIN: {min_web}')\n",
    "    print(f'\\tAccording to DINO, this group was mostly inspired by {inspiration}.')\n",
    "        \n",
    "    if len(pic1) != 0 and len(pic2) != 0:\n",
    "        dino.draw_attention(pic1, pic2)\n",
    "        dino.draw_lines(pic1, pic2, inspiration)"
   ]
  },
  {
   "cell_type": "markdown",
   "metadata": {},
   "source": [
    "## Let's see it in action!"
   ]
  },
  {
   "cell_type": "code",
   "execution_count": null,
   "metadata": {},
   "outputs": [],
   "source": [
    "similarity_results = pd.DataFrame(columns=['final_photo', 'inspiration', 'similarity'])\n",
    "\n",
    "with torch.inference_mode():\n",
    "    for i in range(len(final_data)):\n",
    "        torch.cuda.empty_cache()\n",
    "\n",
    "        ai = final_data.iloc[i].ai_images\n",
    "        web = final_data.iloc[i].web_images\n",
    "        final = final_data.iloc[i].final_submissions\n",
    "        \n",
    "        ai_total, web_total = 0, 0\n",
    "        max_similarity, pic1, pic2 = -1, \"\", \"\"\n",
    "        min_similarity, pic3, pic4 = float('inf'), \"\", \"\"\n",
    "        inspiration = \"INCONCLUSIVE\"\n",
    "\n",
    "        print(f'Calculating similarity for group {final_data.iloc[i].group_code}')\n",
    "\n",
    "        for final_photo in final:\n",
    "            \n",
    "            torch.cuda.empty_cache()\n",
    "            for ai_photo in ai:\n",
    "                similarity = dino.calculate_similarity(final_photo, ai_photo)\n",
    "                new_row = pd.DataFrame({'final_photo': [final_photo], 'inspiration': [ai_photo], 'similarity': [similarity]})\n",
    "                similarity_results = pd.concat([similarity_results, new_row], ignore_index=True)\n",
    "\n",
    "                ai_total += similarity\n",
    "                \n",
    "                if similarity > max_similarity:\n",
    "                    max_similarity = similarity\n",
    "                    pic1, pic2 = final_photo, ai_photo\n",
    "                    if similarity > 0.5: inspiration = \"AI\"\n",
    "                if similarity < min_similarity:\n",
    "                    min_similarity = similarity\n",
    "                    pic3, pic4 = final_photo, ai_photo\n",
    "            \n",
    "            del ai_photo\n",
    "            torch.cuda.empty_cache()\n",
    "\n",
    "            for web_photo in web:\n",
    "                similarity = dino.calculate_similarity(final_photo, web_photo)\n",
    "                new_row = pd.DataFrame({'final_photo': [final_photo], 'inspiration': [web_photo], 'similarity': [similarity]})\n",
    "                similarity_results = pd.concat([similarity_results, new_row], ignore_index=True)\n",
    "\n",
    "                web_total += similarity\n",
    "                \n",
    "                if similarity > max_similarity:\n",
    "                    max_similarity = similarity\n",
    "                    pic1, pic2 = final_photo, web_photo\n",
    "                    if similarity > 0.5: inspiration = \"WEB\"\n",
    "                if similarity < min_similarity:\n",
    "                    min_similarity = similarity\n",
    "                    pic3, pic4 = final_photo, web_photo\n",
    "\n",
    "            del web_photo\n",
    "            torch.cuda.empty_cache()\n",
    "\n",
    "        ai_total = ai_total / (len(final) * len(ai))\n",
    "        web_total = web_total / (len(final) * len(web))\n",
    "\n",
    "        del final_photo, final, ai, web\n",
    "        torch.cuda.empty_cache()\n",
    "\n",
    "        print(f'\\tSimilarity scores - AI: {ai_total:.3f}\\tWEB: {web_total:.3f}')\n",
    "        print(f'\\tAccording to DINO, this group was mostly inspired by {inspiration}.')\n",
    "        \n",
    "        if len(pic1) != 0 and len(pic2) != 0:\n",
    "            dino.draw_attention(pic1, pic2)\n",
    "            dino.draw_lines(pic1, pic2, inspiration)\n",
    "\n",
    "similarity_results.to_csv('similarity_results.csv', index=False)"
   ]
  }
 ],
 "metadata": {
  "kernelspec": {
   "display_name": "torch",
   "language": "python",
   "name": "python3"
  },
  "language_info": {
   "codemirror_mode": {
    "name": "ipython",
    "version": 3
   },
   "file_extension": ".py",
   "mimetype": "text/x-python",
   "name": "python",
   "nbconvert_exporter": "python",
   "pygments_lexer": "ipython3",
   "version": "3.12.8"
  }
 },
 "nbformat": 4,
 "nbformat_minor": 2
}

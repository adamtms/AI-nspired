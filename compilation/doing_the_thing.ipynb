{
 "cells": [
  {
   "cell_type": "code",
   "execution_count": 1,
   "metadata": {},
   "outputs": [],
   "source": [
    "from csv_inator import CSVInator\n",
    "from model import calculate_cosine,get_model, make_heatmap\n",
    "import os"
   ]
  },
  {
   "cell_type": "code",
   "execution_count": 2,
   "metadata": {},
   "outputs": [],
   "source": [
    "data_path = os.path.realpath(os.path.join(os.path.dirname(\"/home/milte/Desktop/AI-nspired/compilation/doing_the_thing.ipynb\"),\"../data/clean\"))\n",
    "csv_path = os.path.realpath(os.path.join(os.path.dirname(\"/home/milte/Desktop/AI-nspired/compilation/doing_the_thing.ipynb\"),\"./csv\"))"
   ]
  },
  {
   "cell_type": "code",
   "execution_count": null,
   "metadata": {},
   "outputs": [],
   "source": [
    "if not os.path.exists(csv_path):\n",
    "    os.makedirs(csv_path)\n",
    "else:\n",
    "    for f in os.listdir(csv_path):\n",
    "        os.remove(os.path.join(csv_path,f))"
   ]
  },
  {
   "cell_type": "code",
   "execution_count": 5,
   "metadata": {},
   "outputs": [],
   "source": [
    "class ModelFN:\n",
    "    def __init__(self,data_path):\n",
    "        self.data_path = data_path\n",
    "        self.model = get_model()\n",
    "        \n",
    "    def __call__(self,path1,path2):\n",
    "        print(\"path1:\",path1,\"path2:\",path2)\n",
    "\n",
    "class ModelCosine(ModelFN):\n",
    "    def __init__(self,data_path):\n",
    "        self.data_path = data_path\n",
    "        self.model = get_model()\n",
    "        \n",
    "    def __call__(self,path1,path2):\n",
    "        #we assume that the path is \"{data_path}/{group_id}/{source}/whatever.whatever\"\n",
    "        p1_abs = os.path.join(self.data_path,path1)\n",
    "        p2_abs = os.path.join(self.data_path,path2)\n",
    "        return calculate_cosine(p1_abs,p2_abs,self.model)"
   ]
  },
  {
   "cell_type": "code",
   "execution_count": 5,
   "metadata": {},
   "outputs": [
    {
     "name": "stderr",
     "output_type": "stream",
     "text": [
      "/home/milte/anaconda3/envs/torch-cv/lib/python3.11/site-packages/torchvision/models/_utils.py:208: UserWarning: The parameter 'pretrained' is deprecated since 0.13 and may be removed in the future, please use 'weights' instead.\n",
      "  warnings.warn(\n",
      "/home/milte/anaconda3/envs/torch-cv/lib/python3.11/site-packages/torchvision/models/_utils.py:223: UserWarning: Arguments other than a weight enum or `None` for 'weights' are deprecated since 0.13 and may be removed in the future. The current behavior is equivalent to passing `weights=ResNet50_Weights.IMAGENET1K_V1`. You can also use `weights=ResNet50_Weights.DEFAULT` to get the most up-to-date weights.\n",
      "  warnings.warn(msg)\n"
     ]
    }
   ],
   "source": [
    "cos_fn = ModelCosine(data_path)\n",
    "for i in range(1,28):\n",
    "    data_final = [os.path.join(str(i),\"final\",x) for x in os.listdir(os.path.join(data_path, str(i), \"final\"))]\n",
    "    data_inspirations = [os.path.join(str(i),\"web\",x) for x in  os.listdir(os.path.join(data_path, str(i), \"web\"))]\n",
    "    data_inspirations += [os.path.join(str(i),\"ai\",x) for x in os.listdir(os.path.join(data_path, str(i), \"ai\"))]\n",
    "    \n",
    "    data_final = sorted(data_final)\n",
    "    data_inspirations = sorted(data_inspirations)\n",
    "    \n",
    "    data_final_extended = []\n",
    "    for f in data_final:\n",
    "        data_final_extended += [f] * len(data_inspirations)\n",
    "    \n",
    "    inator = CSVInator(data_final_extended, data_inspirations*len(data_final),cos_fn)\n",
    "    inator(os.path.join(csv_path, str(i) + \".csv\"),\"image1\",\"image2\",\"resnet cosine similarity\")"
   ]
  },
  {
   "cell_type": "markdown",
   "metadata": {},
   "source": [
    "## heatmaps\n"
   ]
  },
  {
   "cell_type": "code",
   "execution_count": 6,
   "metadata": {},
   "outputs": [],
   "source": [
    "heatmaps_path = os.path.realpath(os.path.join(os.path.dirname(\"/home/milte/Desktop/AI-nspired/compilation/doing_the_thing.ipynb\"),\"./heatmaps\"))\n",
    "heatmaps_csvs_path = os.path.realpath(os.path.join(os.path.dirname(\"/home/milte/Desktop/AI-nspired/compilation/doing_the_thing.ipynb\"),\"./heatmaps_csvs\"))\n",
    "\n",
    "if not os.path.exists(heatmaps_path):\n",
    "    os.makedirs(heatmaps_path)\n",
    "else:\n",
    "    for f in os.listdir(heatmaps_path):\n",
    "        os.remove(os.path.join(heatmaps_path,f))\n",
    "        \n",
    "if not os.path.exists(heatmaps_csvs_path):\n",
    "    os.makedirs(heatmaps_csvs_path)\n",
    "else:\n",
    "    for f in os.listdir(heatmaps_csvs_path):\n",
    "        os.remove(os.path.join(heatmaps_csvs_path,f))    \n"
   ]
  },
  {
   "cell_type": "code",
   "execution_count": 7,
   "metadata": {},
   "outputs": [],
   "source": [
    "class ModelHeatmap(ModelFN):\n",
    "    def __init__(self,data_path):\n",
    "        self.data_path = data_path\n",
    "        self.model = get_model()\n",
    "        \n",
    "    def __call__(self,path1,path2):\n",
    "        #we assume that the path is \"{data_path}/{group_id}/{source}/whatever.whatever\"\n",
    "        p1_abs = os.path.join(self.data_path,path1)\n",
    "        p2_abs = os.path.join(self.data_path,path2)\n",
    "        save_filename = f\"{path1.replace('/','_').split('.')[0]}_vs_{path2.replace('/','_').split('.')[0]}_heatmap.png\"\n",
    "        return make_heatmap(p1_abs,p2_abs,os.path.join(heatmaps_path,save_filename),self.model)"
   ]
  },
  {
   "cell_type": "code",
   "execution_count": 8,
   "metadata": {},
   "outputs": [
    {
     "name": "stderr",
     "output_type": "stream",
     "text": [
      "/home/milte/anaconda3/envs/torch-cv/lib/python3.11/site-packages/torchvision/models/_utils.py:208: UserWarning: The parameter 'pretrained' is deprecated since 0.13 and may be removed in the future, please use 'weights' instead.\n",
      "  warnings.warn(\n",
      "/home/milte/anaconda3/envs/torch-cv/lib/python3.11/site-packages/torchvision/models/_utils.py:223: UserWarning: Arguments other than a weight enum or `None` for 'weights' are deprecated since 0.13 and may be removed in the future. The current behavior is equivalent to passing `weights=ResNet50_Weights.IMAGENET1K_V1`. You can also use `weights=ResNet50_Weights.DEFAULT` to get the most up-to-date weights.\n",
      "  warnings.warn(msg)\n"
     ]
    },
    {
     "name": "stdout",
     "output_type": "stream",
     "text": [
      "1\n",
      "1\n",
      "2\n",
      "2\n",
      "3\n",
      "3\n",
      "4\n",
      "4\n",
      "5\n",
      "5\n",
      "6\n",
      "6\n",
      "7\n"
     ]
    },
    {
     "ename": "KeyboardInterrupt",
     "evalue": "",
     "output_type": "error",
     "traceback": [
      "\u001b[0;31m---------------------------------------------------------------------------\u001b[0m",
      "\u001b[0;31mKeyboardInterrupt\u001b[0m                         Traceback (most recent call last)",
      "Cell \u001b[0;32mIn[8], line 21\u001b[0m\n\u001b[1;32m     17\u001b[0m \u001b[38;5;66;03m#inator = CSVInator(data_final_extended, data_inspirations*len(data_final),heatmap_fn)\u001b[39;00m\n\u001b[1;32m     18\u001b[0m \u001b[38;5;66;03m#inator(csv_path,\"image1\",\"image2\",\"heatmap_path\")\u001b[39;00m\n\u001b[1;32m     20\u001b[0m inator2 \u001b[38;5;241m=\u001b[39m CSVInator(data_inspirations\u001b[38;5;241m*\u001b[39m\u001b[38;5;28mlen\u001b[39m(data_final),data_final_extended,heatmap_fn)\n\u001b[0;32m---> 21\u001b[0m inator2(csv_path,\u001b[38;5;124m\"\u001b[39m\u001b[38;5;124mimage1\u001b[39m\u001b[38;5;124m\"\u001b[39m,\u001b[38;5;124m\"\u001b[39m\u001b[38;5;124mimage2\u001b[39m\u001b[38;5;124m\"\u001b[39m,\u001b[38;5;124m\"\u001b[39m\u001b[38;5;124mheatmap_path\u001b[39m\u001b[38;5;124m\"\u001b[39m)\n\u001b[1;32m     23\u001b[0m \u001b[38;5;28mprint\u001b[39m(i)\n",
      "File \u001b[0;32m~/Desktop/AI-nspired/compilation/csv_inator.py:11\u001b[0m, in \u001b[0;36mCSVInator.__call__\u001b[0;34m(self, filepath, name1, name2, fname)\u001b[0m\n\u001b[1;32m      9\u001b[0m file\u001b[38;5;241m.\u001b[39mwrite(\u001b[38;5;124mf\u001b[39m\u001b[38;5;124m\"\u001b[39m\u001b[38;5;132;01m{\u001b[39;00mname1\u001b[38;5;132;01m}\u001b[39;00m\u001b[38;5;124m,\u001b[39m\u001b[38;5;132;01m{\u001b[39;00mname2\u001b[38;5;132;01m}\u001b[39;00m\u001b[38;5;124m,\u001b[39m\u001b[38;5;132;01m{\u001b[39;00mfname\u001b[38;5;132;01m}\u001b[39;00m\u001b[38;5;130;01m\\n\u001b[39;00m\u001b[38;5;124m\"\u001b[39m)\n\u001b[1;32m     10\u001b[0m \u001b[38;5;28;01mfor\u001b[39;00m d1,d2 \u001b[38;5;129;01min\u001b[39;00m \u001b[38;5;28mzip\u001b[39m(\u001b[38;5;28mself\u001b[39m\u001b[38;5;241m.\u001b[39mdata1,\u001b[38;5;28mself\u001b[39m\u001b[38;5;241m.\u001b[39mdata2):\n\u001b[0;32m---> 11\u001b[0m     file\u001b[38;5;241m.\u001b[39mwrite(\u001b[38;5;124mf\u001b[39m\u001b[38;5;124m\"\u001b[39m\u001b[38;5;132;01m{\u001b[39;00md1\u001b[38;5;132;01m}\u001b[39;00m\u001b[38;5;124m,\u001b[39m\u001b[38;5;132;01m{\u001b[39;00md2\u001b[38;5;132;01m}\u001b[39;00m\u001b[38;5;124m,\u001b[39m\u001b[38;5;132;01m{\u001b[39;00m\u001b[38;5;28mself\u001b[39m\u001b[38;5;241m.\u001b[39mfunction(d1,d2)\u001b[38;5;132;01m}\u001b[39;00m\u001b[38;5;130;01m\\n\u001b[39;00m\u001b[38;5;124m\"\u001b[39m)\n",
      "Cell \u001b[0;32mIn[7], line 11\u001b[0m, in \u001b[0;36mModelHeatmap.__call__\u001b[0;34m(self, path1, path2)\u001b[0m\n\u001b[1;32m      9\u001b[0m p2_abs \u001b[38;5;241m=\u001b[39m os\u001b[38;5;241m.\u001b[39mpath\u001b[38;5;241m.\u001b[39mjoin(\u001b[38;5;28mself\u001b[39m\u001b[38;5;241m.\u001b[39mdata_path,path2)\n\u001b[1;32m     10\u001b[0m save_filename \u001b[38;5;241m=\u001b[39m \u001b[38;5;124mf\u001b[39m\u001b[38;5;124m\"\u001b[39m\u001b[38;5;132;01m{\u001b[39;00mpath1\u001b[38;5;241m.\u001b[39mreplace(\u001b[38;5;124m'\u001b[39m\u001b[38;5;124m/\u001b[39m\u001b[38;5;124m'\u001b[39m,\u001b[38;5;124m'\u001b[39m\u001b[38;5;124m_\u001b[39m\u001b[38;5;124m'\u001b[39m)\u001b[38;5;241m.\u001b[39msplit(\u001b[38;5;124m'\u001b[39m\u001b[38;5;124m.\u001b[39m\u001b[38;5;124m'\u001b[39m)[\u001b[38;5;241m0\u001b[39m]\u001b[38;5;132;01m}\u001b[39;00m\u001b[38;5;124m_vs_\u001b[39m\u001b[38;5;132;01m{\u001b[39;00mpath2\u001b[38;5;241m.\u001b[39mreplace(\u001b[38;5;124m'\u001b[39m\u001b[38;5;124m/\u001b[39m\u001b[38;5;124m'\u001b[39m,\u001b[38;5;124m'\u001b[39m\u001b[38;5;124m_\u001b[39m\u001b[38;5;124m'\u001b[39m)\u001b[38;5;241m.\u001b[39msplit(\u001b[38;5;124m'\u001b[39m\u001b[38;5;124m.\u001b[39m\u001b[38;5;124m'\u001b[39m)[\u001b[38;5;241m0\u001b[39m]\u001b[38;5;132;01m}\u001b[39;00m\u001b[38;5;124m_heatmap.png\u001b[39m\u001b[38;5;124m\"\u001b[39m\n\u001b[0;32m---> 11\u001b[0m \u001b[38;5;28;01mreturn\u001b[39;00m make_heatmap(p1_abs,p2_abs,os\u001b[38;5;241m.\u001b[39mpath\u001b[38;5;241m.\u001b[39mjoin(heatmaps_path,save_filename),\u001b[38;5;28mself\u001b[39m\u001b[38;5;241m.\u001b[39mmodel)\n",
      "File \u001b[0;32m~/Desktop/AI-nspired/compilation/model.py:66\u001b[0m, in \u001b[0;36mmake_heatmap\u001b[0;34m(path1, path2, save_path, model)\u001b[0m\n\u001b[1;32m     64\u001b[0m \u001b[38;5;28;01mdef\u001b[39;00m \u001b[38;5;21mmake_heatmap\u001b[39m(path1:\u001b[38;5;28mstr\u001b[39m,path2:\u001b[38;5;28mstr\u001b[39m,save_path:\u001b[38;5;28mstr\u001b[39m,model:ResnetFeatureExtractor):\n\u001b[1;32m     65\u001b[0m     \u001b[38;5;66;03m# Makes heatmap of what makes image1 similar to image2\u001b[39;00m\n\u001b[0;32m---> 66\u001b[0m     img1 \u001b[38;5;241m=\u001b[39m load_image_into_resnet_tensor(path1,device\u001b[38;5;241m=\u001b[39mDEVICE)\n\u001b[1;32m     67\u001b[0m     img2 \u001b[38;5;241m=\u001b[39m load_image_into_resnet_tensor(path2,device\u001b[38;5;241m=\u001b[39mDEVICE)\n\u001b[1;32m     68\u001b[0m     features2 \u001b[38;5;241m=\u001b[39m model(img2)[\u001b[38;5;241m0\u001b[39m,:]\n",
      "File \u001b[0;32m~/Desktop/AI-nspired/compilation/model.py:31\u001b[0m, in \u001b[0;36mload_image_into_resnet_tensor\u001b[0;34m(path, image_transform_pipeline, device)\u001b[0m\n\u001b[1;32m     29\u001b[0m \u001b[38;5;28;01mdef\u001b[39;00m \u001b[38;5;21mload_image_into_resnet_tensor\u001b[39m(path,image_transform_pipeline\u001b[38;5;241m=\u001b[39mTRANSFORMS_PIPELINE,device\u001b[38;5;241m=\u001b[39m\u001b[38;5;124m\"\u001b[39m\u001b[38;5;124mcpu\u001b[39m\u001b[38;5;124m\"\u001b[39m):\n\u001b[1;32m     30\u001b[0m     \u001b[38;5;28;01mreturn\u001b[39;00m image_transform_pipeline(\n\u001b[0;32m---> 31\u001b[0m         Image\u001b[38;5;241m.\u001b[39mopen(path)\u001b[38;5;241m.\u001b[39mconvert(\u001b[38;5;124m\"\u001b[39m\u001b[38;5;124mRGB\u001b[39m\u001b[38;5;124m\"\u001b[39m)\n\u001b[1;32m     32\u001b[0m     )\u001b[38;5;241m.\u001b[39munsqueeze(\u001b[38;5;241m0\u001b[39m)\u001b[38;5;241m.\u001b[39mto(device)\n",
      "File \u001b[0;32m~/anaconda3/envs/torch-cv/lib/python3.11/site-packages/PIL/Image.py:1007\u001b[0m, in \u001b[0;36mImage.convert\u001b[0;34m(self, mode, matrix, dither, palette, colors)\u001b[0m\n\u001b[1;32m   1005\u001b[0m         mode \u001b[38;5;241m=\u001b[39m \u001b[38;5;124m\"\u001b[39m\u001b[38;5;124mRGBA\u001b[39m\u001b[38;5;124m\"\u001b[39m\n\u001b[1;32m   1006\u001b[0m \u001b[38;5;28;01mif\u001b[39;00m \u001b[38;5;129;01mnot\u001b[39;00m mode \u001b[38;5;129;01mor\u001b[39;00m (mode \u001b[38;5;241m==\u001b[39m \u001b[38;5;28mself\u001b[39m\u001b[38;5;241m.\u001b[39mmode \u001b[38;5;129;01mand\u001b[39;00m \u001b[38;5;129;01mnot\u001b[39;00m matrix):\n\u001b[0;32m-> 1007\u001b[0m     \u001b[38;5;28;01mreturn\u001b[39;00m \u001b[38;5;28mself\u001b[39m\u001b[38;5;241m.\u001b[39mcopy()\n\u001b[1;32m   1009\u001b[0m \u001b[38;5;28;01mif\u001b[39;00m matrix:\n\u001b[1;32m   1010\u001b[0m     \u001b[38;5;66;03m# matrix conversion\u001b[39;00m\n\u001b[1;32m   1011\u001b[0m     \u001b[38;5;28;01mif\u001b[39;00m mode \u001b[38;5;129;01mnot\u001b[39;00m \u001b[38;5;129;01min\u001b[39;00m (\u001b[38;5;124m\"\u001b[39m\u001b[38;5;124mL\u001b[39m\u001b[38;5;124m\"\u001b[39m, \u001b[38;5;124m\"\u001b[39m\u001b[38;5;124mRGB\u001b[39m\u001b[38;5;124m\"\u001b[39m):\n",
      "File \u001b[0;32m~/anaconda3/envs/torch-cv/lib/python3.11/site-packages/PIL/Image.py:1274\u001b[0m, in \u001b[0;36mImage.copy\u001b[0;34m(self)\u001b[0m\n\u001b[1;32m   1266\u001b[0m \u001b[38;5;250m\u001b[39m\u001b[38;5;124;03m\"\"\"\u001b[39;00m\n\u001b[1;32m   1267\u001b[0m \u001b[38;5;124;03mCopies this image. Use this method if you wish to paste things\u001b[39;00m\n\u001b[1;32m   1268\u001b[0m \u001b[38;5;124;03minto an image, but still retain the original.\u001b[39;00m\n\u001b[0;32m   (...)\u001b[0m\n\u001b[1;32m   1271\u001b[0m \u001b[38;5;124;03m:returns: An :py:class:`~PIL.Image.Image` object.\u001b[39;00m\n\u001b[1;32m   1272\u001b[0m \u001b[38;5;124;03m\"\"\"\u001b[39;00m\n\u001b[1;32m   1273\u001b[0m \u001b[38;5;28mself\u001b[39m\u001b[38;5;241m.\u001b[39mload()\n\u001b[0;32m-> 1274\u001b[0m \u001b[38;5;28;01mreturn\u001b[39;00m \u001b[38;5;28mself\u001b[39m\u001b[38;5;241m.\u001b[39m_new(\u001b[38;5;28mself\u001b[39m\u001b[38;5;241m.\u001b[39mim\u001b[38;5;241m.\u001b[39mcopy())\n",
      "\u001b[0;31mKeyboardInterrupt\u001b[0m: "
     ]
    }
   ],
   "source": [
    "heatmap_fn = ModelHeatmap(data_path)\n",
    "for i in range(1,28):\n",
    "    print(i)\n",
    "    data_final = [os.path.join(str(i),\"final\",x) for x in os.listdir(os.path.join(data_path, str(i), \"final\"))]\n",
    "    data_inspirations = [os.path.join(str(i),\"web\",x) for x in  os.listdir(os.path.join(data_path, str(i), \"web\"))]\n",
    "    data_inspirations += [os.path.join(str(i),\"ai\",x) for x in os.listdir(os.path.join(data_path, str(i), \"ai\"))]\n",
    "    \n",
    "    data_final = sorted(data_final)\n",
    "    data_inspirations = sorted(data_inspirations)\n",
    "    \n",
    "    data_final_extended = []\n",
    "    for f in data_final:\n",
    "        data_final_extended += [f] * len(data_inspirations)\n",
    "    \n",
    "    csv_path = os.path.join(heatmaps_csvs_path, str(i) + \".csv\")\n",
    "    \n",
    "    #inator = CSVInator(data_final_extended, data_inspirations*len(data_final),heatmap_fn)\n",
    "    #inator(csv_path,\"image1\",\"image2\",\"heatmap_path\")\n",
    "    \n",
    "    inator2 = CSVInator(data_inspirations*len(data_final),data_final_extended,heatmap_fn)\n",
    "    inator2(csv_path,\"image1\",\"image2\",\"heatmap_path\")\n",
    "    \n",
    "    print(i)"
   ]
  }
 ],
 "metadata": {
  "kernelspec": {
   "display_name": "torch-cv",
   "language": "python",
   "name": "python3"
  },
  "language_info": {
   "codemirror_mode": {
    "name": "ipython",
    "version": 3
   },
   "file_extension": ".py",
   "mimetype": "text/x-python",
   "name": "python",
   "nbconvert_exporter": "python",
   "pygments_lexer": "ipython3",
   "version": "3.11.10"
  }
 },
 "nbformat": 4,
 "nbformat_minor": 2
}

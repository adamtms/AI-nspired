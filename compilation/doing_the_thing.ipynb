{
 "cells": [
  {
   "cell_type": "code",
   "execution_count": 1,
   "metadata": {},
   "outputs": [],
   "source": [
    "from csv_inator import CSVInator\n",
    "from model import calculate_cosine,get_model\n",
    "import os"
   ]
  },
  {
   "cell_type": "code",
   "execution_count": 2,
   "metadata": {},
   "outputs": [],
   "source": [
    "data_path = os.path.realpath(os.path.join(os.path.dirname(\"/home/milte/Desktop/AI-nspired/compilation/doing_the_thing.ipynb\"),\"../data/clean\"))\n",
    "csv_path = os.path.realpath(os.path.join(os.path.dirname(\"/home/milte/Desktop/AI-nspired/compilation/doing_the_thing.ipynb\"),\"./csv\"))\n",
    "\n",
    "if not os.path.exists(csv_path):\n",
    "    os.makedirs(csv_path)\n",
    "else:\n",
    "    for f in os.listdir(csv_path):\n",
    "        os.remove(os.path.join(csv_path,f))"
   ]
  },
  {
   "cell_type": "code",
   "execution_count": 3,
   "metadata": {},
   "outputs": [],
   "source": [
    "class ModelCosine:\n",
    "    def __init__(self,data_path):\n",
    "        self.model = get_model()\n",
    "        self.data_path = data_path\n",
    "    def __call__(self,path1,path2):\n",
    "        #we assume that the path is \"{data_path}/{group_id}/{source}/whatever.whatever\"\n",
    "        p1_abs = os.path.join(self.data_path,path1)\n",
    "        p2_abs = os.path.join(self.data_path,path2)\n",
    "        return calculate_cosine(p1_abs,p2_abs,self.model)"
   ]
  },
  {
   "cell_type": "code",
   "execution_count": 4,
   "metadata": {},
   "outputs": [
    {
     "name": "stderr",
     "output_type": "stream",
     "text": [
      "/home/milte/anaconda3/envs/torch-cv/lib/python3.11/site-packages/torchvision/models/_utils.py:208: UserWarning: The parameter 'pretrained' is deprecated since 0.13 and may be removed in the future, please use 'weights' instead.\n",
      "  warnings.warn(\n",
      "/home/milte/anaconda3/envs/torch-cv/lib/python3.11/site-packages/torchvision/models/_utils.py:223: UserWarning: Arguments other than a weight enum or `None` for 'weights' are deprecated since 0.13 and may be removed in the future. The current behavior is equivalent to passing `weights=ResNet50_Weights.IMAGENET1K_V1`. You can also use `weights=ResNet50_Weights.DEFAULT` to get the most up-to-date weights.\n",
      "  warnings.warn(msg)\n"
     ]
    }
   ],
   "source": [
    "cos_fn = ModelCosine(data_path)\n",
    "for i in range(8,28):\n",
    "    data_final = [os.path.join(str(i),\"final\",x) for x in os.listdir(os.path.join(data_path, str(i), \"final\"))]\n",
    "    data_inspirations = [os.path.join(str(i),\"web\",x) for x in  os.listdir(os.path.join(data_path, str(i), \"web\"))]\n",
    "    data_inspirations += [os.path.join(str(i),\"ai\",x) for x in os.listdir(os.path.join(data_path, str(i), \"ai\"))]\n",
    "    \n",
    "    data_final = sorted(data_final)\n",
    "    data_inspirations = sorted(data_inspirations)\n",
    "    \n",
    "    data_final_extended = []\n",
    "    for f in data_final:\n",
    "        data_final_extended += [f] * len(data_inspirations)\n",
    "    \n",
    "    inator = CSVInator(data_final_extended, data_inspirations*len(data_final),cos_fn)\n",
    "    inator(os.path.join(csv_path, str(i) + \".csv\"),\"image1\",\"image2\",\"resnet cosine similarity\")"
   ]
  }
 ],
 "metadata": {
  "kernelspec": {
   "display_name": "torch-cv",
   "language": "python",
   "name": "python3"
  },
  "language_info": {
   "codemirror_mode": {
    "name": "ipython",
    "version": 3
   },
   "file_extension": ".py",
   "mimetype": "text/x-python",
   "name": "python",
   "nbconvert_exporter": "python",
   "pygments_lexer": "ipython3",
   "version": "3.11.10"
  }
 },
 "nbformat": 4,
 "nbformat_minor": 2
}

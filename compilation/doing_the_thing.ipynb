{
 "cells": [
  {
   "cell_type": "code",
   "execution_count": 1,
   "metadata": {},
   "outputs": [],
   "source": [
    "from csv_inator import CSVInator\n",
    "from model import calculate_cosine,get_model, make_heatmap\n",
    "import os"
   ]
  },
  {
   "cell_type": "code",
   "execution_count": 2,
   "metadata": {},
   "outputs": [],
   "source": [
    "data_path = os.path.realpath(os.path.join(os.path.dirname(\"/home/milte/Desktop/AI-nspired/compilation/doing_the_thing.ipynb\"),\"../data/clean\"))\n",
    "csv_path = os.path.realpath(os.path.join(os.path.dirname(\"/home/milte/Desktop/AI-nspired/compilation/doing_the_thing.ipynb\"),\"./csv\"))"
   ]
  },
  {
   "cell_type": "code",
   "execution_count": null,
   "metadata": {},
   "outputs": [],
   "source": [
    "\n",
    "\n",
    "if not os.path.exists(csv_path):\n",
    "    os.makedirs(csv_path)\n",
    "else:\n",
    "    for f in os.listdir(csv_path):\n",
    "        os.remove(os.path.join(csv_path,f))"
   ]
  },
  {
   "cell_type": "code",
   "execution_count": 3,
   "metadata": {},
   "outputs": [],
   "source": [
    "class ModelFN:\n",
    "    def __init__(self,data_path):\n",
    "        self.data_path = data_path\n",
    "        self.model = get_model()\n",
    "        \n",
    "    def __call__(self,path1,path2):\n",
    "        print(\"path1:\",path1,\"path2:\",path2)\n",
    "\n",
    "class ModelCosine(ModelFN):\n",
    "    def __init__(self,data_path):\n",
    "        self.data_path = data_path\n",
    "        self.model = get_model()\n",
    "        \n",
    "    def __call__(self,path1,path2):\n",
    "        #we assume that the path is \"{data_path}/{group_id}/{source}/whatever.whatever\"\n",
    "        p1_abs = os.path.join(self.data_path,path1)\n",
    "        p2_abs = os.path.join(self.data_path,path2)\n",
    "        return calculate_cosine(p1_abs,p2_abs,self.model)"
   ]
  },
  {
   "cell_type": "code",
   "execution_count": 4,
   "metadata": {},
   "outputs": [
    {
     "name": "stderr",
     "output_type": "stream",
     "text": [
      "/home/milte/anaconda3/envs/torch-cv/lib/python3.11/site-packages/torchvision/models/_utils.py:208: UserWarning: The parameter 'pretrained' is deprecated since 0.13 and may be removed in the future, please use 'weights' instead.\n",
      "  warnings.warn(\n",
      "/home/milte/anaconda3/envs/torch-cv/lib/python3.11/site-packages/torchvision/models/_utils.py:223: UserWarning: Arguments other than a weight enum or `None` for 'weights' are deprecated since 0.13 and may be removed in the future. The current behavior is equivalent to passing `weights=ResNet50_Weights.IMAGENET1K_V1`. You can also use `weights=ResNet50_Weights.DEFAULT` to get the most up-to-date weights.\n",
      "  warnings.warn(msg)\n"
     ]
    }
   ],
   "source": [
    "cos_fn = ModelCosine(data_path)\n",
    "for i in range(8,28):\n",
    "    data_final = [os.path.join(str(i),\"final\",x) for x in os.listdir(os.path.join(data_path, str(i), \"final\"))]\n",
    "    data_inspirations = [os.path.join(str(i),\"web\",x) for x in  os.listdir(os.path.join(data_path, str(i), \"web\"))]\n",
    "    data_inspirations += [os.path.join(str(i),\"ai\",x) for x in os.listdir(os.path.join(data_path, str(i), \"ai\"))]\n",
    "    \n",
    "    data_final = sorted(data_final)\n",
    "    data_inspirations = sorted(data_inspirations)\n",
    "    \n",
    "    data_final_extended = []\n",
    "    for f in data_final:\n",
    "        data_final_extended += [f] * len(data_inspirations)\n",
    "    \n",
    "    inator = CSVInator(data_final_extended, data_inspirations*len(data_final),cos_fn)\n",
    "    inator(os.path.join(csv_path, str(i) + \".csv\"),\"image1\",\"image2\",\"resnet cosine similarity\")"
   ]
  },
  {
   "cell_type": "markdown",
   "metadata": {},
   "source": [
    "## heatmaps\n"
   ]
  },
  {
   "cell_type": "code",
   "execution_count": 16,
   "metadata": {},
   "outputs": [],
   "source": [
    "heatmaps_path = os.path.realpath(os.path.join(os.path.dirname(\"/home/milte/Desktop/AI-nspired/compilation/doing_the_thing.ipynb\"),\"./heatmaps\"))\n",
    "heatmaps_csvs_path = os.path.realpath(os.path.join(os.path.dirname(\"/home/milte/Desktop/AI-nspired/compilation/doing_the_thing.ipynb\"),\"./heatmaps_csvs\"))\n",
    "\n",
    "if not os.path.exists(heatmaps_path):\n",
    "    os.makedirs(heatmaps_path)\n",
    "else:\n",
    "    for f in os.listdir(heatmaps_path):\n",
    "        os.remove(os.path.join(heatmaps_path,f))\n",
    "        \n",
    "if not os.path.exists(heatmaps_csvs_path):\n",
    "    os.makedirs(heatmaps_csvs_path)\n",
    "else:\n",
    "    for f in os.listdir(heatmaps_csvs_path):\n",
    "        os.remove(os.path.join(heatmaps_csvs_path,f))    \n"
   ]
  },
  {
   "cell_type": "code",
   "execution_count": 17,
   "metadata": {},
   "outputs": [],
   "source": [
    "class ModelHeatmap(ModelFN):\n",
    "    def __init__(self,data_path):\n",
    "        self.data_path = data_path\n",
    "        self.model = get_model()\n",
    "        \n",
    "    def __call__(self,path1,path2):\n",
    "        #we assume that the path is \"{data_path}/{group_id}/{source}/whatever.whatever\"\n",
    "        p1_abs = os.path.join(self.data_path,path1)\n",
    "        p2_abs = os.path.join(self.data_path,path2)\n",
    "        save_filename = f\"{path1.replace('/','_').split('.')[0]}_vs_{path2.replace('/','_').split('.')[0]}_heatmap.png\"\n",
    "        return make_heatmap(p1_abs,p2_abs,os.path.join(heatmaps_path,save_filename),self.model)"
   ]
  },
  {
   "cell_type": "code",
   "execution_count": 18,
   "metadata": {},
   "outputs": [
    {
     "name": "stderr",
     "output_type": "stream",
     "text": [
      "/home/milte/anaconda3/envs/torch-cv/lib/python3.11/site-packages/torchvision/models/_utils.py:208: UserWarning: The parameter 'pretrained' is deprecated since 0.13 and may be removed in the future, please use 'weights' instead.\n",
      "  warnings.warn(\n",
      "/home/milte/anaconda3/envs/torch-cv/lib/python3.11/site-packages/torchvision/models/_utils.py:223: UserWarning: Arguments other than a weight enum or `None` for 'weights' are deprecated since 0.13 and may be removed in the future. The current behavior is equivalent to passing `weights=ResNet50_Weights.IMAGENET1K_V1`. You can also use `weights=ResNet50_Weights.DEFAULT` to get the most up-to-date weights.\n",
      "  warnings.warn(msg)\n"
     ]
    },
    {
     "name": "stdout",
     "output_type": "stream",
     "text": [
      "8\n",
      "8\n",
      "9\n",
      "9\n",
      "10\n",
      "10\n",
      "11\n",
      "11\n",
      "12\n",
      "12\n",
      "13\n",
      "13\n",
      "14\n",
      "14\n",
      "15\n",
      "15\n",
      "16\n",
      "16\n",
      "17\n",
      "17\n",
      "18\n",
      "18\n",
      "19\n",
      "19\n",
      "20\n",
      "20\n",
      "21\n",
      "21\n",
      "22\n",
      "22\n",
      "23\n",
      "23\n",
      "24\n",
      "24\n",
      "25\n",
      "25\n",
      "26\n",
      "26\n",
      "27\n",
      "27\n"
     ]
    }
   ],
   "source": [
    "heatmap_fn = ModelHeatmap(data_path)\n",
    "for i in range(8,28):\n",
    "    print(i)\n",
    "    data_final = [os.path.join(str(i),\"final\",x) for x in os.listdir(os.path.join(data_path, str(i), \"final\"))]\n",
    "    data_inspirations = [os.path.join(str(i),\"web\",x) for x in  os.listdir(os.path.join(data_path, str(i), \"web\"))]\n",
    "    data_inspirations += [os.path.join(str(i),\"ai\",x) for x in os.listdir(os.path.join(data_path, str(i), \"ai\"))]\n",
    "    \n",
    "    data_final = sorted(data_final)\n",
    "    data_inspirations = sorted(data_inspirations)\n",
    "    \n",
    "    data_final_extended = []\n",
    "    for f in data_final:\n",
    "        data_final_extended += [f] * len(data_inspirations)\n",
    "    \n",
    "    csv_path = os.path.join(heatmaps_csvs_path, str(i) + \".csv\")\n",
    "    \n",
    "    inator = CSVInator(data_final_extended, data_inspirations*len(data_final),heatmap_fn)\n",
    "    inator(csv_path,\"image1\",\"image2\",\"heatmap_path\")\n",
    "    \n",
    "    inator2 = CSVInator(data_inspirations*len(data_final),data_final_extended,heatmap_fn)\n",
    "    inator2(csv_path,\"image1\",\"image2\",\"heatmap_path\")\n",
    "    \n",
    "    print(i)"
   ]
  }
 ],
 "metadata": {
  "kernelspec": {
   "display_name": "torch-cv",
   "language": "python",
   "name": "python3"
  },
  "language_info": {
   "codemirror_mode": {
    "name": "ipython",
    "version": 3
   },
   "file_extension": ".py",
   "mimetype": "text/x-python",
   "name": "python",
   "nbconvert_exporter": "python",
   "pygments_lexer": "ipython3",
   "version": "3.11.10"
  }
 },
 "nbformat": 4,
 "nbformat_minor": 2
}

{
 "cells": [
  {
   "cell_type": "code",
   "execution_count": 6,
   "metadata": {},
   "outputs": [
    {
     "ename": "ModuleNotFoundError",
     "evalue": "No module named 'seaborn'",
     "output_type": "error",
     "traceback": [
      "\u001b[0;31m---------------------------------------------------------------------------\u001b[0m",
      "\u001b[0;31mModuleNotFoundError\u001b[0m                       Traceback (most recent call last)",
      "Cell \u001b[0;32mIn[6], line 2\u001b[0m\n\u001b[1;32m      1\u001b[0m \u001b[38;5;28;01mimport\u001b[39;00m \u001b[38;5;21;01mpandas\u001b[39;00m \u001b[38;5;28;01mas\u001b[39;00m \u001b[38;5;21;01mpd\u001b[39;00m\n\u001b[0;32m----> 2\u001b[0m \u001b[38;5;28;01mimport\u001b[39;00m \u001b[38;5;21;01mseaborn\u001b[39;00m \u001b[38;5;28;01mas\u001b[39;00m \u001b[38;5;21;01msns\u001b[39;00m\n\u001b[1;32m      3\u001b[0m \u001b[38;5;28;01mimport\u001b[39;00m \u001b[38;5;21;01mmatplotlib\u001b[39;00m\u001b[38;5;21;01m.\u001b[39;00m\u001b[38;5;21;01mpyplot\u001b[39;00m \u001b[38;5;28;01mas\u001b[39;00m \u001b[38;5;21;01mplt\u001b[39;00m\n\u001b[1;32m      5\u001b[0m \u001b[38;5;28;01mimport\u001b[39;00m \u001b[38;5;21;01mcv2\u001b[39;00m\n",
      "\u001b[0;31mModuleNotFoundError\u001b[0m: No module named 'seaborn'"
     ]
    }
   ],
   "source": [
    "import pandas as pd\n",
    "import seaborn as sns\n",
    "import matplotlib.pyplot as plt\n",
    "\n",
    "import cv2\n",
    "import numpy as np\n",
    "import PIL\n",
    "import os"
   ]
  },
  {
   "cell_type": "code",
   "execution_count": null,
   "metadata": {},
   "outputs": [],
   "source": [
    "def imshow(img):\n",
    "    img = img.astype(np.uint8)\n",
    "    img=cv2.cvtColor(img, cv2.COLOR_BGR2RGB)\n",
    "    display(PIL.Image.fromarray(img).convert(\"RGB\"))\n",
    "    \n",
    "def imshow_on_axis(img, ax, title):\n",
    "    img = img.astype(np.uint8)\n",
    "    img=cv2.cvtColor(img, cv2.COLOR_BGR2RGB)\n",
    "    ax.imshow(img)\n",
    "    ax.set_title(title)\n",
    "    ax.axis('off')\n",
    "\n",
    "            \n",
    "def load_images(number):\n",
    "    final_images = []\n",
    "    web_images = []\n",
    "    ai_images = []\n",
    "    \n",
    "    final_src=[]\n",
    "    web_src=[]\n",
    "    ai_src=[]\n",
    "\n",
    "    final_path = f'data/final_submissions/{number}/'\n",
    "    web_path = 'data/web/'\n",
    "    ai_path = 'data/ai/'\n",
    "\n",
    "  \n",
    "    if not os.path.exists(final_path):\n",
    "        print(f\"The final submissions path '{final_path}' does not exist.\")\n",
    "        return None, None, None  \n",
    "\n",
    "\n",
    "    for filename in os.listdir(final_path):\n",
    "        img = cv2.imread(os.path.join(final_path, filename))\n",
    "        if img is not None:\n",
    "            final_images.append(img)\n",
    "            final_src.append(f\"{number}_{filename}\")\n",
    "\n",
    "    if not final_images:\n",
    "        print(f\"No images found in '{final_path}'. Please check the contents.\")\n",
    "        return None, None, None\n",
    "\n",
    "    for filename in os.listdir(web_path):\n",
    "        if filename.startswith(str(number)):\n",
    "            img = cv2.imread(os.path.join(web_path, filename))\n",
    "            if img is not None:\n",
    "                web_images.append(img)\n",
    "\n",
    "    for filename in os.listdir(ai_path):\n",
    "        if filename.startswith(str(number)):\n",
    "            img = cv2.imread(os.path.join(ai_path, filename))\n",
    "            if img is not None:\n",
    "                ai_images.append(img)\n",
    "    \n",
    "    if not web_images and not ai_images:\n",
    "        print(f\"The number '{number}' does not correspond to any valid images in 'web' or 'ai' folders.\")\n",
    "        return None, None, None\n",
    "\n",
    "    if not web_images:\n",
    "        print(f\"No web images found with prefix '{number}' in '{web_path}'.\")\n",
    "        return None, None, None\n",
    "    if not ai_images:\n",
    "        print(f\"No AI images found with prefix '{number}' in '{ai_path}'.\")\n",
    "        return None, None, None\n",
    "\n",
    "    return final_images, web_images, ai_images"
   ]
  },
  {
   "cell_type": "code",
   "execution_count": 2,
   "metadata": {},
   "outputs": [],
   "source": [
    "def read_csv(path):\n",
    "    try:\n",
    "        df = pd.read_csv(path)\n",
    "        return df\n",
    "    except Exception as e:\n",
    "        print(f\"Error reading the file: {e}\")\n",
    "        return None"
   ]
  },
  {
   "cell_type": "code",
   "execution_count": 5,
   "metadata": {},
   "outputs": [
    {
     "data": {
      "text/html": [
       "<div>\n",
       "<style scoped>\n",
       "    .dataframe tbody tr th:only-of-type {\n",
       "        vertical-align: middle;\n",
       "    }\n",
       "\n",
       "    .dataframe tbody tr th {\n",
       "        vertical-align: top;\n",
       "    }\n",
       "\n",
       "    .dataframe thead th {\n",
       "        text-align: right;\n",
       "    }\n",
       "</style>\n",
       "<table border=\"1\" class=\"dataframe\">\n",
       "  <thead>\n",
       "    <tr style=\"text-align: right;\">\n",
       "      <th></th>\n",
       "      <th>Final_Submission</th>\n",
       "      <th>Inspiration</th>\n",
       "      <th>Similarity</th>\n",
       "    </tr>\n",
       "  </thead>\n",
       "  <tbody>\n",
       "    <tr>\n",
       "      <th>0</th>\n",
       "      <td>1_1.png</td>\n",
       "      <td>1A_1.jpg</td>\n",
       "      <td>0.622241</td>\n",
       "    </tr>\n",
       "    <tr>\n",
       "      <th>1</th>\n",
       "      <td>1_1.png</td>\n",
       "      <td>1A_10.jpg</td>\n",
       "      <td>0.886676</td>\n",
       "    </tr>\n",
       "    <tr>\n",
       "      <th>2</th>\n",
       "      <td>1_1.png</td>\n",
       "      <td>1A_2.jpg</td>\n",
       "      <td>0.800207</td>\n",
       "    </tr>\n",
       "    <tr>\n",
       "      <th>3</th>\n",
       "      <td>1_1.png</td>\n",
       "      <td>1A_3.jpg</td>\n",
       "      <td>0.775083</td>\n",
       "    </tr>\n",
       "    <tr>\n",
       "      <th>4</th>\n",
       "      <td>1_1.png</td>\n",
       "      <td>1A_4.jpg</td>\n",
       "      <td>0.815200</td>\n",
       "    </tr>\n",
       "  </tbody>\n",
       "</table>\n",
       "</div>"
      ],
      "text/plain": [
       "  Final_Submission Inspiration  Similarity\n",
       "0          1_1.png    1A_1.jpg    0.622241\n",
       "1          1_1.png   1A_10.jpg    0.886676\n",
       "2          1_1.png    1A_2.jpg    0.800207\n",
       "3          1_1.png    1A_3.jpg    0.775083\n",
       "4          1_1.png    1A_4.jpg    0.815200"
      ]
     },
     "execution_count": 5,
     "metadata": {},
     "output_type": "execute_result"
    }
   ],
   "source": [
    "colors = read_csv(\"csv/color_similarity.csv\")\n",
    "\n",
    "colors.head()"
   ]
  }
 ],
 "metadata": {
  "kernelspec": {
   "display_name": "PC",
   "language": "python",
   "name": "python3"
  },
  "language_info": {
   "codemirror_mode": {
    "name": "ipython",
    "version": 3
   },
   "file_extension": ".py",
   "mimetype": "text/x-python",
   "name": "python",
   "nbconvert_exporter": "python",
   "pygments_lexer": "ipython3",
   "version": "3.10.9"
  }
 },
 "nbformat": 4,
 "nbformat_minor": 2
}

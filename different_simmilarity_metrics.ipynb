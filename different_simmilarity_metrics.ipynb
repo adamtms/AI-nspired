{
 "cells": [
  {
   "cell_type": "markdown",
   "metadata": {},
   "source": [
    "## Imports and loader funcitons"
   ]
  },
  {
   "cell_type": "code",
   "execution_count": 1,
   "metadata": {},
   "outputs": [],
   "source": [
    "import pandas as pd\n",
    "import seaborn as sns\n",
    "import matplotlib.pyplot as plt\n",
    "\n",
    "import cv2\n",
    "import numpy as np\n",
    "import PIL\n",
    "import os\n",
    "import re"
   ]
  },
  {
   "cell_type": "code",
   "execution_count": 2,
   "metadata": {},
   "outputs": [],
   "source": [
    "def imshow(img):\n",
    "    img = img.astype(np.uint8)\n",
    "    img=cv2.cvtColor(img, cv2.COLOR_BGR2RGB)\n",
    "    display(PIL.Image.fromarray(img).convert(\"RGB\"))\n",
    "    \n",
    "def imshow_on_axis(img, ax, title):\n",
    "    img = img.astype(np.uint8)\n",
    "    img=cv2.cvtColor(img, cv2.COLOR_BGR2RGB)\n",
    "    ax.imshow(img)\n",
    "    ax.set_title(title)\n",
    "    ax.axis('off')\n",
    "\n",
    "            \n",
    "def load_images_from_path(path, number):\n",
    "    images = []\n",
    "    srcs = []\n",
    "    pattern = rf\"^{number}(?!\\d)\"\n",
    "    \n",
    "    for filename in os.listdir(path):\n",
    "        if re.match(pattern, filename):\n",
    "            img = cv2.imread(os.path.join(path, filename))\n",
    "            if img is not None:\n",
    "                images.append(img)\n",
    "                srcs.append(filename)\n",
    "\n",
    "    return images, srcs\n",
    "\n",
    "\n",
    "def load_images(number):\n",
    "    final_images = []\n",
    "    final_srcs = []\n",
    "\n",
    "    final_path = f\"data/final_submissions/{number}/\"\n",
    "    web_path = \"data/web/\"\n",
    "    ai_path = \"data/ai/\"\n",
    "\n",
    "    if not os.path.exists(final_path):\n",
    "        print(f\"The final submissions path '{final_path}' does not exist.\")\n",
    "        return None, None, None\n",
    "\n",
    "    for filename in os.listdir(final_path):\n",
    "        img = cv2.imread(os.path.join(final_path, filename))\n",
    "        if img is not None:\n",
    "            final_images.append(img)\n",
    "            final_srcs.append(f\"{number}_{filename}\")\n",
    "\n",
    "    web_images, web_srcs = load_images_from_path(web_path, number)\n",
    "    ai_images, ai_srcs = load_images_from_path(ai_path, number)\n",
    "\n",
    "    if not final_images:\n",
    "        print(f\"No images found in '{final_path}'. Please check the contents.\")\n",
    "        return None, None, None\n",
    "\n",
    "    if not web_images and not ai_images:\n",
    "        print(\n",
    "            f\"The number '{number}' does not correspond to any valid images in 'web' or 'ai' folders.\"\n",
    "        )\n",
    "        return None, None, None\n",
    "\n",
    "    if not web_images:\n",
    "        print(f\"No web images found with prefix '{number}' in '{web_path}'.\")\n",
    "        return None, None, None\n",
    "    if not ai_images:\n",
    "        print(f\"No AI images found with prefix '{number}' in '{ai_path}'.\")\n",
    "        return None, None, None\n",
    "\n",
    "    return final_images, web_images, ai_images, final_srcs, web_srcs, ai_srcs"
   ]
  },
  {
   "cell_type": "code",
   "execution_count": 3,
   "metadata": {},
   "outputs": [],
   "source": [
    "def read_csv(path):\n",
    "    try:\n",
    "        df = pd.read_csv(path)\n",
    "        return df\n",
    "    except Exception as e:\n",
    "        print(f\"Error reading the file: {e}\")\n",
    "        return None"
   ]
  },
  {
   "cell_type": "markdown",
   "metadata": {},
   "source": [
    "## Analyze of violin plots"
   ]
  },
  {
   "cell_type": "code",
   "execution_count": 20,
   "metadata": {},
   "outputs": [
    {
     "name": "stdout",
     "output_type": "stream",
     "text": [
      "(8620, 3)\n",
      "(8664, 3)\n"
     ]
    }
   ],
   "source": [
    "resnets=[]\n",
    "new_columns = [\"Final_Submission\", \"Inspiration\", \"Similarity\"]\n",
    "\n",
    "for i in range(1,28):\n",
    "    resnets.append(read_csv(f\"csv/csv2/{i}.csv\"))\n",
    "\n",
    "\n",
    "resnets = pd.concat(resnets, ignore_index=True)\n",
    "resnets.columns = new_columns\n",
    "resnets[\"Final_Submission\"] = resnets[\"Final_Submission\"].apply(lambda x: \"_\".join(x.split('/')[-2:]))\n",
    "resnets[\"Inspiration\"] = resnets[\"Inspiration\"].apply(lambda x: x.split('/')[-1])\n",
    "\n",
    "\n",
    "colors = read_csv(\"csv/color_similarity.csv\")\n",
    "\n",
    "\n",
    "print(colors.shape)\n",
    "print(resnets.shape)"
   ]
  },
  {
   "cell_type": "code",
   "execution_count": 21,
   "metadata": {},
   "outputs": [
    {
     "data": {
      "text/html": [
       "<div>\n",
       "<style scoped>\n",
       "    .dataframe tbody tr th:only-of-type {\n",
       "        vertical-align: middle;\n",
       "    }\n",
       "\n",
       "    .dataframe tbody tr th {\n",
       "        vertical-align: top;\n",
       "    }\n",
       "\n",
       "    .dataframe thead th {\n",
       "        text-align: right;\n",
       "    }\n",
       "</style>\n",
       "<table border=\"1\" class=\"dataframe\">\n",
       "  <thead>\n",
       "    <tr style=\"text-align: right;\">\n",
       "      <th></th>\n",
       "      <th>Final_Submission</th>\n",
       "      <th>Inspiration</th>\n",
       "      <th>Similarity</th>\n",
       "    </tr>\n",
       "  </thead>\n",
       "  <tbody>\n",
       "    <tr>\n",
       "      <th>0</th>\n",
       "      <td>1_1.png</td>\n",
       "      <td>1A_1.jpg</td>\n",
       "      <td>0.622241</td>\n",
       "    </tr>\n",
       "    <tr>\n",
       "      <th>1</th>\n",
       "      <td>1_1.png</td>\n",
       "      <td>1A_10.jpg</td>\n",
       "      <td>0.886676</td>\n",
       "    </tr>\n",
       "    <tr>\n",
       "      <th>2</th>\n",
       "      <td>1_1.png</td>\n",
       "      <td>1A_2.jpg</td>\n",
       "      <td>0.800207</td>\n",
       "    </tr>\n",
       "    <tr>\n",
       "      <th>3</th>\n",
       "      <td>1_1.png</td>\n",
       "      <td>1A_3.jpg</td>\n",
       "      <td>0.775083</td>\n",
       "    </tr>\n",
       "    <tr>\n",
       "      <th>4</th>\n",
       "      <td>1_1.png</td>\n",
       "      <td>1A_4.jpg</td>\n",
       "      <td>0.815200</td>\n",
       "    </tr>\n",
       "  </tbody>\n",
       "</table>\n",
       "</div>"
      ],
      "text/plain": [
       "  Final_Submission Inspiration  Similarity\n",
       "0          1_1.png    1A_1.jpg    0.622241\n",
       "1          1_1.png   1A_10.jpg    0.886676\n",
       "2          1_1.png    1A_2.jpg    0.800207\n",
       "3          1_1.png    1A_3.jpg    0.775083\n",
       "4          1_1.png    1A_4.jpg    0.815200"
      ]
     },
     "execution_count": 21,
     "metadata": {},
     "output_type": "execute_result"
    }
   ],
   "source": [
    "colors.head()"
   ]
  },
  {
   "cell_type": "code",
   "execution_count": 22,
   "metadata": {},
   "outputs": [
    {
     "data": {
      "text/html": [
       "<div>\n",
       "<style scoped>\n",
       "    .dataframe tbody tr th:only-of-type {\n",
       "        vertical-align: middle;\n",
       "    }\n",
       "\n",
       "    .dataframe tbody tr th {\n",
       "        vertical-align: top;\n",
       "    }\n",
       "\n",
       "    .dataframe thead th {\n",
       "        text-align: right;\n",
       "    }\n",
       "</style>\n",
       "<table border=\"1\" class=\"dataframe\">\n",
       "  <thead>\n",
       "    <tr style=\"text-align: right;\">\n",
       "      <th></th>\n",
       "      <th>Final_Submission</th>\n",
       "      <th>Inspiration</th>\n",
       "      <th>Similarity</th>\n",
       "    </tr>\n",
       "  </thead>\n",
       "  <tbody>\n",
       "    <tr>\n",
       "      <th>0</th>\n",
       "      <td>1_1.png</td>\n",
       "      <td>1A_11.png</td>\n",
       "      <td>0.818425</td>\n",
       "    </tr>\n",
       "    <tr>\n",
       "      <th>1</th>\n",
       "      <td>1_1.png</td>\n",
       "      <td>1A_12.png</td>\n",
       "      <td>0.818425</td>\n",
       "    </tr>\n",
       "    <tr>\n",
       "      <th>2</th>\n",
       "      <td>1_1.png</td>\n",
       "      <td>1A_13.png</td>\n",
       "      <td>0.826663</td>\n",
       "    </tr>\n",
       "    <tr>\n",
       "      <th>3</th>\n",
       "      <td>1_1.png</td>\n",
       "      <td>1B_11.png</td>\n",
       "      <td>0.843834</td>\n",
       "    </tr>\n",
       "    <tr>\n",
       "      <th>4</th>\n",
       "      <td>1_1.png</td>\n",
       "      <td>1B_12_1.png</td>\n",
       "      <td>0.812419</td>\n",
       "    </tr>\n",
       "  </tbody>\n",
       "</table>\n",
       "</div>"
      ],
      "text/plain": [
       "  Final_Submission  Inspiration  Similarity\n",
       "0          1_1.png    1A_11.png    0.818425\n",
       "1          1_1.png    1A_12.png    0.818425\n",
       "2          1_1.png    1A_13.png    0.826663\n",
       "3          1_1.png    1B_11.png    0.843834\n",
       "4          1_1.png  1B_12_1.png    0.812419"
      ]
     },
     "execution_count": 22,
     "metadata": {},
     "output_type": "execute_result"
    }
   ],
   "source": [
    "resnets.head()"
   ]
  },
  {
   "cell_type": "code",
   "execution_count": 24,
   "metadata": {},
   "outputs": [
    {
     "name": "stdout",
     "output_type": "stream",
     "text": [
      "Combinations in 'colors' but missing in 'resnets':\n",
      "\n",
      "Combinations in 'resnets' but missing in 'colors':\n",
      "('26_4.jpg', '26_12.png')\n",
      "('26_6.jpg', '26_12.png')\n",
      "('26_4.jpg', '26_11.png')\n",
      "('26_4.jpg', '26_13.png')\n",
      "('26_2.jpg', '26_12.png')\n",
      "('26_6.jpg', '26_11.png')\n",
      "('26_6.jpg', '26_13.png')\n",
      "('26_7.jpg', '26_14.png')\n",
      "('26_9.jpg', '26_12.png')\n",
      "('26_2.jpg', '26_11.png')\n",
      "('26_11.jpg', '26_12.png')\n",
      "('26_9.jpg', '26_11.png')\n",
      "('26_9.jpg', '26_13.png')\n",
      "('26_2.jpg', '26_13.png')\n",
      "('26_11.jpg', '26_11.png')\n",
      "('26_3.jpg', '26_11.png')\n",
      "('26_3.jpg', '26_12.png')\n",
      "('26_1.jpg', '26_14.png')\n",
      "('26_11.jpg', '26_13.png')\n",
      "('26_3.jpg', '26_13.png')\n",
      "('26_5.jpg', '26_14.png')\n",
      "('26_8.jpg', '26_14.png')\n",
      "('26_10.jpg', '26_14.png')\n",
      "('26_7.jpg', '26_11.png')\n",
      "('26_7.jpg', '26_12.png')\n",
      "('26_7.jpg', '26_13.png')\n",
      "('26_1.jpg', '26_11.png')\n",
      "('26_1.jpg', '26_12.png')\n",
      "('26_1.jpg', '26_13.png')\n",
      "('26_4.jpg', '26_14.png')\n",
      "('26_5.jpg', '26_12.png')\n",
      "('26_6.jpg', '26_14.png')\n",
      "('26_8.jpg', '26_12.png')\n",
      "('26_10.jpg', '26_12.png')\n",
      "('26_8.jpg', '26_11.png')\n",
      "('26_5.jpg', '26_13.png')\n",
      "('26_8.jpg', '26_13.png')\n",
      "('26_5.jpg', '26_11.png')\n",
      "('26_9.jpg', '26_14.png')\n",
      "('26_10.jpg', '26_11.png')\n",
      "('26_2.jpg', '26_14.png')\n",
      "('26_10.jpg', '26_13.png')\n",
      "('26_11.jpg', '26_14.png')\n",
      "('26_3.jpg', '26_14.png')\n"
     ]
    }
   ],
   "source": [
    "# Create sets of (Final_Submission, Inspiration) tuples for each DataFrame\n",
    "colors_combinations = set(colors[['Final_Submission', 'Inspiration']].itertuples(index=False, name=None))\n",
    "resnets_combinations = set(resnets[['Final_Submission', 'Inspiration']].itertuples(index=False, name=None))\n",
    "\n",
    "# Find missing combinations in each DataFrame\n",
    "missing_in_resnets = colors_combinations - resnets_combinations\n",
    "missing_in_colors = resnets_combinations - colors_combinations\n",
    "\n",
    "# Print results\n",
    "print(\"Combinations in 'colors' but missing in 'resnets':\")\n",
    "for combo in missing_in_resnets:\n",
    "    print(combo)\n",
    "\n",
    "print(\"\\nCombinations in 'resnets' but missing in 'colors':\")\n",
    "for combo in missing_in_colors:\n",
    "    print(combo)"
   ]
  },
  {
   "cell_type": "code",
   "execution_count": null,
   "metadata": {},
   "outputs": [],
   "source": [
    "# import pandas as pd\n",
    "# import seaborn as sns\n",
    "# import matplotlib.pyplot as plt\n",
    "\n",
    "# # Load each CSV file, assuming they are named with a pattern like 'color_similarity_metric1.csv'\n",
    "# file_paths = [\"csv/color_similarity_metric1.csv\", \"csv/color_similarity_metric2.csv\", \"csv/color_similarity_metric3.csv\"]\n",
    "# metric_names = [\"Metric 1\", \"Metric 2\", \"Metric 3\"]\n",
    "\n",
    "# # Combine each metric into a single DataFrame with a new 'Metric' column\n",
    "# dfs = []\n",
    "# for file_path, metric_name in zip(file_paths, metric_names):\n",
    "#     df = pd.read_csv(file_path)\n",
    "#     df['Metric'] = metric_name  # Add a column for metric type\n",
    "#     dfs.append(df)\n",
    "\n",
    "# # Concatenate all DataFrames\n",
    "# all_data = pd.concat(dfs, ignore_index=True)\n",
    "\n",
    "# # Plot the violin plot with metric type as hue\n",
    "# plt.figure(figsize=(10, 8))\n",
    "# sns.violinplot(data=all_data, x=\"Metric\", y=\"Similarity\", palette=\"muted\")\n",
    "# plt.title(\"Comparison of Similarity Metrics\")\n",
    "# plt.ylabel(\"Similarity\")\n",
    "# plt.xlabel(\"Metric\")\n",
    "# plt.show()"
   ]
  },
  {
   "cell_type": "code",
   "execution_count": 5,
   "metadata": {},
   "outputs": [
    {
     "data": {
      "image/png": "[encoded data removed]",
      "text/plain": [
       "<Figure size 800x600 with 1 Axes>"
      ]
     },
     "metadata": {},
     "output_type": "display_data"
    }
   ],
   "source": [
    "plt.figure(figsize=(8, 6))\n",
    "sns.violinplot(data=colors, y=\"Similarity\", color=\"skyblue\")\n",
    "plt.title(\"Violin Plot of Similarity Scores\")\n",
    "plt.ylabel(\"Similarity\")\n",
    "plt.show()"
   ]
  },
  {
   "cell_type": "markdown",
   "metadata": {},
   "source": [
    "## See bar plots of most simmilairty"
   ]
  },
  {
   "cell_type": "code",
   "execution_count": null,
   "metadata": {},
   "outputs": [],
   "source": [
    "def show_simmilarity(group_id, metric = \"Mean\")"
   ]
  }
 ],
 "metadata": {
  "kernelspec": {
   "display_name": "PC",
   "language": "python",
   "name": "python3"
  },
  "language_info": {
   "codemirror_mode": {
    "name": "ipython",
    "version": 3
   },
   "file_extension": ".py",
   "mimetype": "text/x-python",
   "name": "python",
   "nbconvert_exporter": "python",
   "pygments_lexer": "ipython3",
   "version": "3.10.9"
  }
 },
 "nbformat": 4,
 "nbformat_minor": 2
}

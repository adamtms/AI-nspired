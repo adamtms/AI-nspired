{
 "cells": [
  {
   "cell_type": "code",
   "execution_count": 24,
   "metadata": {},
   "outputs": [
    {
     "name": "stdout",
     "output_type": "stream",
     "text": [
      "The autoreload extension is already loaded. To reload it, use:\n",
      "  %reload_ext autoreload\n"
     ]
    }
   ],
   "source": [
    "%load_ext autoreload\n",
    "%autoreload 2"
   ]
  },
  {
   "cell_type": "code",
   "execution_count": 25,
   "metadata": {},
   "outputs": [],
   "source": [
    "from utilities import *\n",
    "import cv2\n",
    "from tqdm import tqdm\n",
    "import numpy as np\n",
    "import matplotlib.pyplot as plt\n",
    "from skimage.metrics import structural_similarity as ssim"
   ]
  },
  {
   "cell_type": "code",
   "execution_count": 26,
   "metadata": {},
   "outputs": [],
   "source": [
    "groups = get_groups()"
   ]
  },
  {
   "cell_type": "code",
   "execution_count": 27,
   "metadata": {},
   "outputs": [],
   "source": [
    "class ContrastComparer:\n",
    "    def __init__(self):\n",
    "        pass\n",
    "\n",
    "    def rmse(self, x1, x2):\n",
    "        x1 = np.array(x1)\n",
    "        x2 = np.array(x2)\n",
    "        return np.sqrt(np.mean((x1 - x2) ** 2))/np.sqrt(len(x1))\n",
    "    \n",
    "    def ame(self, x1, x2):\n",
    "        x1 = np.array(x1)\n",
    "        x2 = np.array(x2)\n",
    "        return np.mean(np.abs(x1 - x2))\n",
    "\n",
    "    def get_entropy(self, image, num_bins=64):\n",
    "        histogram = np.histogram(image, bins=num_bins, range=(0, 1))[0]/image.size\n",
    "    \n",
    "        # Remove zero probabilities (log2(0) is undefined)\n",
    "        histogram = histogram[histogram > 0]\n",
    "        \n",
    "        # Calculate entropy\n",
    "        entropy = -np.sum(histogram * np.log2(histogram))\n",
    "        \n",
    "        max_entropy = np.log2(num_bins)\n",
    "\n",
    "        return entropy/max_entropy\n",
    "\n",
    "    def get_contrast_features(self, image):\n",
    "        image = cv2.cvtColor(image, cv2.COLOR_BGR2LAB).astype(np.float32)\n",
    "        image /= 255.0\n",
    "        l = image[:,:,0]\n",
    "        features = [\n",
    "            np.mean(l),\n",
    "            # np.median(l),\n",
    "            np.std(l),\n",
    "            (np.max(l)-np.min(l))/(np.max(l)+np.min(l)),\n",
    "            self.get_entropy(l)\n",
    "        ]\n",
    "        return features\n",
    "\n",
    "    def compare_images(self, img1, img2, method='final'):     \n",
    "        features1 = self.get_contrast_features(img1)\n",
    "        features2 = self.get_contrast_features(img2)\n",
    "        difference = self.rmse(features1, features2)\n",
    "        return 1 - difference"
   ]
  },
  {
   "cell_type": "code",
   "execution_count": 28,
   "metadata": {},
   "outputs": [
    {
     "name": "stderr",
     "output_type": "stream",
     "text": [
      "100%|██████████| 27/27 [02:52<00:00,  6.39s/it]\n"
     ]
    }
   ],
   "source": [
    "comparer = ContrastComparer()\n",
    "similarities = pd.DataFrame(columns=[\"final_image\", \"inspiration_image\", \"similarity\"])\n",
    "for index, row in tqdm(groups.iterrows(),total=groups.shape[0]):\n",
    "    for finale_image_p in row[\"final_submissions\"]:\n",
    "        final_image = cv2.imread(finale_image_p)\n",
    "        if final_image.shape[0] < 250: # Skip small images\n",
    "            continue\n",
    "        inspirations = row[\"ai_images\"] + row[\"web_images\"]\n",
    "        for inspiration_p in inspirations:\n",
    "            inspiration = cv2.imread(inspiration_p)\n",
    "            similarity = comparer.compare_images(final_image, inspiration)\n",
    "            similarities.loc[len(similarities)] = [finale_image_p, inspiration_p, similarity]"
   ]
  },
  {
   "cell_type": "code",
   "execution_count": 29,
   "metadata": {},
   "outputs": [
    {
     "data": {
      "text/html": [
       "<div>\n",
       "<style scoped>\n",
       "    .dataframe tbody tr th:only-of-type {\n",
       "        vertical-align: middle;\n",
       "    }\n",
       "\n",
       "    .dataframe tbody tr th {\n",
       "        vertical-align: top;\n",
       "    }\n",
       "\n",
       "    .dataframe thead th {\n",
       "        text-align: right;\n",
       "    }\n",
       "</style>\n",
       "<table border=\"1\" class=\"dataframe\">\n",
       "  <thead>\n",
       "    <tr style=\"text-align: right;\">\n",
       "      <th></th>\n",
       "      <th>similarity</th>\n",
       "    </tr>\n",
       "  </thead>\n",
       "  <tbody>\n",
       "    <tr>\n",
       "      <th>count</th>\n",
       "      <td>4080.000000</td>\n",
       "    </tr>\n",
       "    <tr>\n",
       "      <th>mean</th>\n",
       "      <td>0.920850</td>\n",
       "    </tr>\n",
       "    <tr>\n",
       "      <th>std</th>\n",
       "      <td>0.058108</td>\n",
       "    </tr>\n",
       "    <tr>\n",
       "      <th>min</th>\n",
       "      <td>0.709849</td>\n",
       "    </tr>\n",
       "    <tr>\n",
       "      <th>25%</th>\n",
       "      <td>0.897769</td>\n",
       "    </tr>\n",
       "    <tr>\n",
       "      <th>50%</th>\n",
       "      <td>0.934353</td>\n",
       "    </tr>\n",
       "    <tr>\n",
       "      <th>75%</th>\n",
       "      <td>0.963589</td>\n",
       "    </tr>\n",
       "    <tr>\n",
       "      <th>max</th>\n",
       "      <td>0.999446</td>\n",
       "    </tr>\n",
       "  </tbody>\n",
       "</table>\n",
       "</div>"
      ],
      "text/plain": [
       "        similarity\n",
       "count  4080.000000\n",
       "mean      0.920850\n",
       "std       0.058108\n",
       "min       0.709849\n",
       "25%       0.897769\n",
       "50%       0.934353\n",
       "75%       0.963589\n",
       "max       0.999446"
      ]
     },
     "execution_count": 29,
     "metadata": {},
     "output_type": "execute_result"
    }
   ],
   "source": [
    "similarities.describe()"
   ]
  },
  {
   "cell_type": "code",
   "execution_count": 30,
   "metadata": {},
   "outputs": [],
   "source": [
    "similarities.to_csv(\"contrast_similarity.csv\", index=False)"
   ]
  }
 ],
 "metadata": {
  "kernelspec": {
   "display_name": "Pytorch",
   "language": "python",
   "name": "python3"
  },
  "language_info": {
   "codemirror_mode": {
    "name": "ipython",
    "version": 3
   },
   "file_extension": ".py",
   "mimetype": "text/x-python",
   "name": "python",
   "nbconvert_exporter": "python",
   "pygments_lexer": "ipython3",
   "version": "3.12.7"
  }
 },
 "nbformat": 4,
 "nbformat_minor": 2
}
